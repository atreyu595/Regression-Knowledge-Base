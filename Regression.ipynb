{
 "cells": [
  {
   "cell_type": "markdown",
   "id": "e7a3c170-4b0d-49d6-8ba1-3a0f06adb585",
   "metadata": {
    "jp-MarkdownHeadingCollapsed": true,
    "tags": []
   },
   "source": [
    "<h1> Regression Notes </h1>\n",
    "\n",
    "- Regression can be simply  computed by taking the weighted sum of input features plus a constant called the \"bias term\"\n",
    "- Common way to measure it is using RMSE (Root Mean Squared Error)\n",
    "- To minimize RMSE, we need to find the values theta (coefficient of input features).\n",
    "- We want to minimise the MSE which can be easier than RMSE.\n",
    "- Minimising RMSE and MSE leads to the same result since the value that minimises a function also minimizes the square root."
   ]
  },
  {
   "cell_type": "code",
   "execution_count": 1,
   "id": "8ae45d10-426f-4418-a846-0b552700de20",
   "metadata": {
    "tags": []
   },
   "outputs": [],
   "source": [
    "#import necessary libraries for data wrangling and visualization\n",
    "import numpy as np\n",
    "import pandas as pd\n",
    "import matplotlib.pyplot as plt\n",
    "import seaborn as sns\n",
    "\n",
    "#import machine learning libraries and modules\n",
    "from sklearn.model_selection import train_test_split\n",
    "from sklearn.model_selection import GridSearchCV, RandomizedSearchCV\n",
    "from sklearn.preprocessing import StandardScaler\n",
    "from sklearn import metrics\n",
    "from sklearn.linear_model import LinearRegression, SGDRegressor\n",
    "from sklearn.metrics import mean_squared_error"
   ]
  },
  {
   "cell_type": "markdown",
   "id": "b80b80e5-d896-4097-b335-37b5522258aa",
   "metadata": {},
   "source": [
    "Let's use multiple-linear regression to predict the income of a person based of two key variables:\n",
    "- Age: Age of person\n",
    "- Experience: No. of years a user has worked"
   ]
  },
  {
   "cell_type": "code",
   "execution_count": 2,
   "id": "bfaf58c2-5d00-4e2d-b9c1-d378d7c5c3a3",
   "metadata": {
    "tags": []
   },
   "outputs": [
    {
     "data": {
      "text/html": [
       "<div>\n",
       "<style scoped>\n",
       "    .dataframe tbody tr th:only-of-type {\n",
       "        vertical-align: middle;\n",
       "    }\n",
       "\n",
       "    .dataframe tbody tr th {\n",
       "        vertical-align: top;\n",
       "    }\n",
       "\n",
       "    .dataframe thead th {\n",
       "        text-align: right;\n",
       "    }\n",
       "</style>\n",
       "<table border=\"1\" class=\"dataframe\">\n",
       "  <thead>\n",
       "    <tr style=\"text-align: right;\">\n",
       "      <th></th>\n",
       "      <th>age</th>\n",
       "      <th>experience</th>\n",
       "      <th>income</th>\n",
       "    </tr>\n",
       "  </thead>\n",
       "  <tbody>\n",
       "    <tr>\n",
       "      <th>0</th>\n",
       "      <td>25</td>\n",
       "      <td>1</td>\n",
       "      <td>30450</td>\n",
       "    </tr>\n",
       "    <tr>\n",
       "      <th>1</th>\n",
       "      <td>30</td>\n",
       "      <td>3</td>\n",
       "      <td>35670</td>\n",
       "    </tr>\n",
       "    <tr>\n",
       "      <th>2</th>\n",
       "      <td>47</td>\n",
       "      <td>2</td>\n",
       "      <td>31580</td>\n",
       "    </tr>\n",
       "    <tr>\n",
       "      <th>3</th>\n",
       "      <td>32</td>\n",
       "      <td>5</td>\n",
       "      <td>40130</td>\n",
       "    </tr>\n",
       "    <tr>\n",
       "      <th>4</th>\n",
       "      <td>43</td>\n",
       "      <td>10</td>\n",
       "      <td>47830</td>\n",
       "    </tr>\n",
       "    <tr>\n",
       "      <th>5</th>\n",
       "      <td>51</td>\n",
       "      <td>7</td>\n",
       "      <td>41630</td>\n",
       "    </tr>\n",
       "    <tr>\n",
       "      <th>6</th>\n",
       "      <td>28</td>\n",
       "      <td>5</td>\n",
       "      <td>41340</td>\n",
       "    </tr>\n",
       "    <tr>\n",
       "      <th>7</th>\n",
       "      <td>33</td>\n",
       "      <td>4</td>\n",
       "      <td>37650</td>\n",
       "    </tr>\n",
       "    <tr>\n",
       "      <th>8</th>\n",
       "      <td>37</td>\n",
       "      <td>5</td>\n",
       "      <td>40250</td>\n",
       "    </tr>\n",
       "    <tr>\n",
       "      <th>9</th>\n",
       "      <td>39</td>\n",
       "      <td>8</td>\n",
       "      <td>45150</td>\n",
       "    </tr>\n",
       "    <tr>\n",
       "      <th>10</th>\n",
       "      <td>29</td>\n",
       "      <td>1</td>\n",
       "      <td>27840</td>\n",
       "    </tr>\n",
       "    <tr>\n",
       "      <th>11</th>\n",
       "      <td>47</td>\n",
       "      <td>9</td>\n",
       "      <td>46110</td>\n",
       "    </tr>\n",
       "    <tr>\n",
       "      <th>12</th>\n",
       "      <td>54</td>\n",
       "      <td>5</td>\n",
       "      <td>36720</td>\n",
       "    </tr>\n",
       "    <tr>\n",
       "      <th>13</th>\n",
       "      <td>51</td>\n",
       "      <td>4</td>\n",
       "      <td>34800</td>\n",
       "    </tr>\n",
       "    <tr>\n",
       "      <th>14</th>\n",
       "      <td>44</td>\n",
       "      <td>12</td>\n",
       "      <td>51300</td>\n",
       "    </tr>\n",
       "    <tr>\n",
       "      <th>15</th>\n",
       "      <td>41</td>\n",
       "      <td>6</td>\n",
       "      <td>38900</td>\n",
       "    </tr>\n",
       "    <tr>\n",
       "      <th>16</th>\n",
       "      <td>58</td>\n",
       "      <td>17</td>\n",
       "      <td>63600</td>\n",
       "    </tr>\n",
       "    <tr>\n",
       "      <th>17</th>\n",
       "      <td>23</td>\n",
       "      <td>1</td>\n",
       "      <td>30870</td>\n",
       "    </tr>\n",
       "    <tr>\n",
       "      <th>18</th>\n",
       "      <td>44</td>\n",
       "      <td>9</td>\n",
       "      <td>44190</td>\n",
       "    </tr>\n",
       "    <tr>\n",
       "      <th>19</th>\n",
       "      <td>37</td>\n",
       "      <td>10</td>\n",
       "      <td>48700</td>\n",
       "    </tr>\n",
       "  </tbody>\n",
       "</table>\n",
       "</div>"
      ],
      "text/plain": [
       "    age  experience  income\n",
       "0    25           1   30450\n",
       "1    30           3   35670\n",
       "2    47           2   31580\n",
       "3    32           5   40130\n",
       "4    43          10   47830\n",
       "5    51           7   41630\n",
       "6    28           5   41340\n",
       "7    33           4   37650\n",
       "8    37           5   40250\n",
       "9    39           8   45150\n",
       "10   29           1   27840\n",
       "11   47           9   46110\n",
       "12   54           5   36720\n",
       "13   51           4   34800\n",
       "14   44          12   51300\n",
       "15   41           6   38900\n",
       "16   58          17   63600\n",
       "17   23           1   30870\n",
       "18   44           9   44190\n",
       "19   37          10   48700"
      ]
     },
     "execution_count": 2,
     "metadata": {},
     "output_type": "execute_result"
    }
   ],
   "source": [
    "#Load some data from kaggle\n",
    "import os\n",
    "import pandas as pd\n",
    "\n",
    "# Specify the path to the directory you want to search in\n",
    "path = \"C:\\\\Users\\\\jaspe\\\\OneDrive\\\\Documents\"\n",
    "\n",
    "# Specify the name of the file you're looking for\n",
    "file_to_find = \"multiple_linear_regression_dataset.csv\"\n",
    "\n",
    "# Use os.listdir to get a list of all files in the directory\n",
    "for file in os.listdir(path):\n",
    "    if file == file_to_find:\n",
    "        # Now you can read the file as a CSV using pandas\n",
    "        data = pd.read_csv(os.path.join(path, file))\n",
    "data\n"
   ]
  },
  {
   "cell_type": "markdown",
   "id": "66071df6-29d7-439a-a6d9-76b56fca36e1",
   "metadata": {},
   "source": [
    "Let's look at what the relationship is between our variables"
   ]
  },
  {
   "cell_type": "code",
   "execution_count": 3,
   "id": "28d60914-c7ce-434a-9942-c2451c3b945b",
   "metadata": {
    "tags": []
   },
   "outputs": [
    {
     "data": {
      "text/plain": [
       "<Axes: xlabel='age', ylabel='income'>"
      ]
     },
     "execution_count": 3,
     "metadata": {},
     "output_type": "execute_result"
    },
    {
     "data": {
      "image/png": "[encoded data removed]",
      "text/plain": [
       "<Figure size 640x480 with 1 Axes>"
      ]
     },
     "metadata": {},
     "output_type": "display_data"
    }
   ],
   "source": [
    "sns.scatterplot(x=data['age'], y=data['income'])"
   ]
  },
  {
   "cell_type": "code",
   "execution_count": 4,
   "id": "3fefb47f-1faa-4e0b-b422-b898fc56c8bd",
   "metadata": {
    "tags": []
   },
   "outputs": [
    {
     "data": {
      "text/plain": [
       "<Axes: xlabel='experience', ylabel='income'>"
      ]
     },
     "execution_count": 4,
     "metadata": {},
     "output_type": "execute_result"
    },
    {
     "data": {
      "image/png": "[encoded data removed]",
      "text/plain": [
       "<Figure size 640x480 with 1 Axes>"
      ]
     },
     "metadata": {},
     "output_type": "display_data"
    }
   ],
   "source": [
    "sns.scatterplot(x=data['experience'], y=data['income'])"
   ]
  },
  {
   "cell_type": "code",
   "execution_count": 5,
   "id": "9f4ce2a0-4f4a-43d3-99b6-ead9bd9d068d",
   "metadata": {
    "tags": []
   },
   "outputs": [
    {
     "data": {
      "text/plain": [
       "<Axes: xlabel='experience', ylabel='income'>"
      ]
     },
     "execution_count": 5,
     "metadata": {},
     "output_type": "execute_result"
    },
    {
     "data": {
      "image/png": "[encoded data removed]",
      "text/plain": [
       "<Figure size 640x480 with 1 Axes>"
      ]
     },
     "metadata": {},
     "output_type": "display_data"
    }
   ],
   "source": [
    "#combine them into one plot\n",
    "sns.scatterplot(x=data['experience'], y=data['income'])\n",
    "sns.scatterplot(x=data['age'], y=data['income'])"
   ]
  },
  {
   "cell_type": "markdown",
   "id": "5306e4ae-24db-487d-ac46-6d93c2122ba5",
   "metadata": {
    "tags": []
   },
   "source": [
    "We can clearly see that the relationship between income and age is \"polynomial\" in nature whilst relationship between income and experience is linear. "
   ]
  },
  {
   "cell_type": "code",
   "execution_count": 6,
   "id": "1ccb2067-0398-4027-9a45-548f1edf5c50",
   "metadata": {
    "tags": []
   },
   "outputs": [],
   "source": [
    "X = data[['experience']] #independent variable\n",
    "y = data['income'] #dependent variable"
   ]
  },
  {
   "cell_type": "markdown",
   "id": "c2cdc600-841f-4015-a92f-6670e35e9b87",
   "metadata": {},
   "source": [
    "To perform basic linear regression analysis, we do the following:"
   ]
  },
  {
   "cell_type": "code",
   "execution_count": 7,
   "id": "a3fa5dfa-9237-4a99-b432-ade95b3e3e2e",
   "metadata": {
    "tags": []
   },
   "outputs": [],
   "source": [
    "lr = LinearRegression() #instantiate \n",
    "lr_fit = lr.fit(X, y) #fit/train model"
   ]
  },
  {
   "cell_type": "markdown",
   "id": "07b8c811-a308-47f2-9800-15f103744225",
   "metadata": {
    "tags": []
   },
   "source": [
    "To find the intercepts and coefficients:"
   ]
  },
  {
   "cell_type": "code",
   "execution_count": 8,
   "id": "ed592611-43e0-4d99-909f-c82b54715efc",
   "metadata": {
    "tags": []
   },
   "outputs": [
    {
     "data": {
      "text/plain": [
       "(28248.446782178216, array([2014.04084158]))"
      ]
     },
     "execution_count": 8,
     "metadata": {},
     "output_type": "execute_result"
    }
   ],
   "source": [
    "lr.intercept_, lr.coef_"
   ]
  },
  {
   "cell_type": "markdown",
   "id": "03fb52ec-5cdc-41da-9c6d-7a905710754d",
   "metadata": {},
   "source": [
    "Let's predict the income of a person based of the model above using the following example:\n",
    "- Experience = 3"
   ]
  },
  {
   "cell_type": "code",
   "execution_count": 9,
   "id": "dd710d6a-c2f1-4ed7-b581-476a4325860c",
   "metadata": {
    "tags": []
   },
   "outputs": [
    {
     "name": "stderr",
     "output_type": "stream",
     "text": [
      "D:\\Anaconda\\Lib\\site-packages\\sklearn\\base.py:464: UserWarning: X does not have valid feature names, but LinearRegression was fitted with feature names\n",
      "  warnings.warn(\n"
     ]
    },
    {
     "data": {
      "text/plain": [
       "array([34290.56930693])"
      ]
     },
     "execution_count": 9,
     "metadata": {},
     "output_type": "execute_result"
    }
   ],
   "source": [
    "X_test = [[3]] #initialise age and experience as array\n",
    "\n",
    "y_pred = lr_fit.predict(X_test) #predict our income\n",
    "y_pred"
   ]
  },
  {
   "cell_type": "markdown",
   "id": "8a27dbf9-b17f-4b09-9667-4c251176fbf9",
   "metadata": {},
   "source": [
    "Therefore, our predicted income is $34,290 if an individual's experience was 3 years."
   ]
  },
  {
   "cell_type": "markdown",
   "id": "6439c9d4-92e7-4420-acde-437f21298d2b",
   "metadata": {},
   "source": [
    "The computational time of LinearRegression() is $O(n^{2})$. Since the normal equation computes the psuedoinverse (a standard matrix factorization technique called SINGULAR VALUE DECOMPOSITION (SVD)), if you double the number of features in the model, you multiply the computational time by 4.\n",
    "\n",
    "Normal regression (least-squares) has a few issues with it:\n",
    "- It is not efficient to use normal linear regression if the no. of features in our dataset is less than the no. of trainin instances\n",
    "- If some features are considered redundant\n",
    "\n",
    "However, the computational complexity is linear with regards to:\n",
    "- No. of instancecs you want to make predictions on\n",
    "- No. of features\n",
    "\n",
    "Therefore, it can handle large trainingn sets provided that it can fit in your memory.\n",
    "\n",
    "Once your linear regression model is trained, it takes very little time to predict since the computational complexity is linear with regards to the no. of instances and no. of features e.g. if you increase the no. of instances (or no. of features) twice, it will take twice as long to predict."
   ]
  },
  {
   "cell_type": "markdown",
   "id": "798a4e6d-a1a7-4c4a-90c3-449c3c01289e",
   "metadata": {
    "tags": []
   },
   "source": [
    "<h1>Gradient Descent</h1>\n",
    "\n",
    "Gradient Descent algorithms are responsible for helping the training rate of models by helping optimize and tweak parameters to minimize the cost function. \n",
    "\n",
    "- Gradient Descent takes the no. of steps $\\theta$ and the local gradient/steepness at that stepping point until it reaches a global minimum once the gradient becomes 0. \n",
    "- Gradient Descent tries to fill the stepping size with values (random initialization.\n",
    "- The goal is to minimize the cost function as much as possible (using MSE)\n",
    "- Step size is important to the learning rate:\n",
    "    - Step size is too big = may end up diverging from global minimum\n",
    "    - Step size is to small = will take a long time for the model to train due to low learning rates\n",
    "\n",
    "Sometimes, the cost function may not be perfectly concave (regular bowl) shaped and may contain ridges and bumps along the way, smaller dips along the cost function are known as local minimum.\n",
    "- If random initialization $\\theta$ starts on the left, it will reach a local minimum\n",
    "- If random initialization starts on the right, it will take a long time\n",
    "- If we stop early, we may never reach the global minimum\n",
    "\n",
    "The MSE cost function is convex in nature, meaning if we take two points from the function and run a line segment between them, it will it never intersect the curve -> no local minimums -> it's also a conitnous function.\n",
    "\n",
    "A few other key points:\n",
    "- Gradient descent can get very close the the global minimum (if we wait long enough and the learning rate isnt too high)\n",
    "\n",
    "Visually speaking, Gradient Descent algorithms approach the global minimum in a straight manner but if the data is scaled, the shape will become elongated and approach the global minimum at an orthogonal angle. \n",
    "\n",
    "<b>NOTE: YOU MUST SCALE YOUR FEATURES using StandardScaler() or else due to the magnitude and scale of the original dat, it could take a long time to converge.</b>\n"
   ]
  },
  {
   "cell_type": "markdown",
   "id": "fdd32e3a-64ec-43d2-8fff-2c499094de1d",
   "metadata": {
    "tags": []
   },
   "source": [
    "<h2>Batch Gradient Descent</h2>\n",
    "\n",
    "\n",
    "Batch gradient descent attempts to calculate the local gradient at each point of $\\theta$ bit by bit. Essentially we are taking the partial derivative at each point. \n",
    "\n",
    "Batch Gradient Descent has one main downfall:\n",
    "- Batch Gradient descent looks at the full training set of your data at each instance/epoch and hence it can take a very long time to train your models and can be terribly slow as the number of training instances increase.\n",
    "\n",
    "But...\n",
    "- Gradient descent algorithms can scale well as the no. of features increase, therefore training a linear regression model on data with large no. of features will be quicker with Gradient descent rather than using normal least squares.\n"
   ]
  },
  {
   "cell_type": "markdown",
   "id": "b3e0951e-2ca4-4989-9371-d24da8e77d00",
   "metadata": {
    "tags": []
   },
   "source": [
    "\n",
    "\n",
    "X_b = np.c_[np.ones((20,1)), X]\n",
    "\n",
    "eta = 0.1\n",
    "n_iterations = 1000\n",
    "m = 20\n",
    "\n",
    "theta = np.random.randn(20,3)\n",
    "\n",
    "for iteration in range(n_iterations):\n",
    "\n",
    "    gradients = 2/m*X_b.T.dot(X_b.dot(theta)-y)\n",
    "    \n",
    "    theta = theta - eta*gradients"
   ]
  },
  {
   "cell_type": "markdown",
   "id": "c0a68241-29d9-4614-a19d-ffbde6bfdec5",
   "metadata": {},
   "source": [
    "If the cost function is convex (in most cases for MSE cost functions), Batch Gradient Descent with a fixed learning rate, it will eventually reach an optimal solution. "
   ]
  },
  {
   "cell_type": "markdown",
   "id": "5117f93f-66be-4e59-b842-21d754dcc152",
   "metadata": {
    "tags": []
   },
   "source": [
    "<h2>Stochastic Gradient Descent</h2>\n",
    "\n",
    "Stochastic Gradient Descent randomly selects values of $\\theta$ rather than using the full training set at each step. This means that the gradient will be calculated at that point alone. \n",
    "- It works on a single instance rather the full instance each time\n",
    "- Can be used for larger training instances.\n",
    "- SGD can be good to get out of local minimums due to random \"jumping\" in error values\n",
    "\n",
    "Issue however:\n",
    "- Stochastic methods being random will gently decrease to until it reaches the minimum to which it will continue to \"bounce and fluctuate\" in error.\n",
    "- This makes it difficult to attain an optimal minimum\n",
    "- If the cost function is irregular, it can be easy for the SGD to reach global minimum.\n",
    "\n",
    "To solve the issue of not reaching the global minimum we can:\n",
    "- reduce the learning rate\n",
    "- make the first step sizes larger then slowly decrease it as $\\theta$ changes\n",
    "\n",
    "The function that determines the learning rate is the <b>learning schedule</b>\n",
    "\n",
    "Thus:\n",
    "- If learning rate is reduced too quickly -> high chance to get stuck in local minimum\n",
    "- If learning rate is reduced too slowly -> may jump to suboptimal solutions\n",
    "\n",
    "If we want our model to iterate through all instances at each epoch, we can shuffle input features i.e\n",
    "- Shuffle the full training set at the <b>BEGINNING</b> of each epoch\n",
    "\n",
    "To implement SGD learning rate into a linear regression model..."
   ]
  },
  {
   "cell_type": "code",
   "execution_count": 45,
   "id": "11d2728c-e564-41aa-9c05-52e7b75d3672",
   "metadata": {
    "tags": []
   },
   "outputs": [
    {
     "data": {
      "text/plain": [
       "(array([40734.00188655]), array([8096.12762992]))"
      ]
     },
     "execution_count": 45,
     "metadata": {},
     "output_type": "execute_result"
    }
   ],
   "source": [
    "\n",
    "\n",
    "#eta0 = initial learning rate value\n",
    "#learning_rate = also known learning schedule, can be 'constant', 'optimal', 'invscaling' \n",
    "from sklearn.preprocessing import StandardScaler\n",
    "from sklearn.pipeline import Pipeline\n",
    "\n",
    "pipe = Pipeline([('scale', StandardScaler()),\n",
    "                ('sgd', SGDRegressor(max_iter = 10000,penalty=None, eta0=0.001, learning_rate='invscaling'))])\n",
    "X_sgd = data['experience'].values.reshape(-1,1)\n",
    "\n",
    "pipe.fit(X_sgd, y).named_steps['sgd'].intercept_, pipe.fit(X_sgd, y).named_steps['sgd'].coef_\n"
   ]
  },
  {
   "cell_type": "markdown",
   "id": "2297feba-d1a6-467c-a83f-1e29ef1934ca",
   "metadata": {
    "tags": []
   },
   "source": [
    "By training our linear regression using SGD, we get a different result\n",
    "\n",
    "<b>NOTE: The coefficients may change drastically due to the randomness of stochastic optimization, choosing random variables of $\\theta$.\n",
    "    <b>This is due to either the learning rate being too big or if you have a lot of features</b>"
   ]
  },
  {
   "cell_type": "code",
   "execution_count": 46,
   "id": "db23a559-5349-4a9e-aa20-e3bc0b995605",
   "metadata": {
    "tags": []
   },
   "outputs": [
    {
     "data": {
      "text/plain": [
       "array([34289.43808241])"
      ]
     },
     "execution_count": 46,
     "metadata": {},
     "output_type": "execute_result"
    }
   ],
   "source": [
    "X_test_sgd = [[3]] #use same test as above with normal equation\n",
    "pipe.predict(X_test_sgd)"
   ]
  },
  {
   "cell_type": "markdown",
   "id": "95095bb8-4c67-4292-a3b0-49cd44028dec",
   "metadata": {},
   "source": [
    "In terms of our dataset, SGD learning may not be the most applicable since we don't have a large no. of training instances or features, so in this case normal least squares would suffice."
   ]
  },
  {
   "cell_type": "markdown",
   "id": "24db8ed0-4e8b-449b-835e-71e8ab4390ab",
   "metadata": {
    "tags": []
   },
   "source": [
    "<h2>Mini-batch Gradient Descent</h2>\n",
    "\n",
    "Instead of finding the gradient based on the full data set (batch) and randomly selecting an instance (stochastic), MBG calculates the gradient based of smaller random sets called <b>mini batches</b>\n",
    "\n",
    "- Main advantage of mini-batch gradient descent to stochastic gradient descent is you can get performance boosts from hardware opimization of matrix operations.\n",
    "- MBGD is less erratic that SGD since it focuses on smaller batches. \n",
    "- Might still be hard to get out of local minimum\n",
    "- Batch however still gets to the most optimal solution (although it takes a long time)\n",
    "- SGD and MBGD can reach an optimal solution if you change/adjust learning schedule\n",
    "\n",
    "MBGD and SGD still bounces around the optimal solution faster if learning schedule is adjusted. \n",
    "\n"
   ]
  },
  {
   "cell_type": "code",
   "execution_count": 64,
   "id": "49932494-aaae-44af-b2c0-88b13d91df06",
   "metadata": {
    "tags": []
   },
   "outputs": [
    {
     "name": "stdout",
     "output_type": "stream",
     "text": [
      "[4634.42942153] [849.04716267]\n"
     ]
    }
   ],
   "source": [
    "# Define the size of the mini-batch\n",
    "batch_size = 100\n",
    "\n",
    "scaler = StandardScaler()\n",
    "X_sgd = scaler.fit_transform(X)\n",
    "\n",
    "pipe = Pipeline([('scale', StandardScaler()),\n",
    "                ('sgd', SGDRegressor(max_iter = 10000,penalty=None, eta0=0.001, learning_rate='invscaling'))])\n",
    "sgd = SGDRegressor()\n",
    "# Perform mini-batch gradient descent\n",
    "for i in range(0, X_sgd.shape[0], batch_size):\n",
    "    sgd.partial_fit(X_sgd[i:i+batch_size], y[i:i+batch_size])\n",
    "    \n",
    "print(sgd.intercept_, sgd.coef_)"
   ]
  },
  {
   "cell_type": "markdown",
   "id": "2ed5a40a-0f70-4f0e-8fdc-f06dfe07014c",
   "metadata": {
    "tags": []
   },
   "source": [
    "predicted income"
   ]
  },
  {
   "cell_type": "code",
   "execution_count": 62,
   "id": "305023db-8109-4337-b722-5c01e7c4c904",
   "metadata": {
    "tags": []
   },
   "outputs": [
    {
     "data": {
      "text/plain": [
       "array([7901.37430799])"
      ]
     },
     "execution_count": 62,
     "metadata": {},
     "output_type": "execute_result"
    }
   ],
   "source": [
    "sgd.predict(X_test)"
   ]
  },
  {
   "cell_type": "markdown",
   "id": "10ab496d-58d4-4543-ae86-20b6667e0472",
   "metadata": {
    "tags": []
   },
   "source": [
    "<h3>Summary</h3>"
   ]
  },
  {
   "cell_type": "markdown",
   "id": "cd3e89b1-8a5d-456e-be8c-d3b1f0033498",
   "metadata": {},
   "source": [
    "Normal Equation: \n",
    "- Large m (features): Fast\n",
    "- Out-of-core support: No\n",
    "- Large n (size of data): Slow\n",
    "- Hyperparams: 0\n",
    "- Scaling required: No\n",
    "- Sciki-learn: N/A\n",
    "\n",
    "SVD:\n",
    "- Large m (features): Fast\n",
    "- Out-of-core support: No\n",
    "- Large n (size of data): Slow\n",
    "- Hyperparams: 0\n",
    "- Scaling required: No\n",
    "- Sciki-learn: LinearRegression\n",
    "\n",
    "Batch:\n",
    "- Large m (features): Slow\n",
    "- Out-of-core support: No\n",
    "- Large n (size of data): Fast\n",
    "- Hyperparams: 2\n",
    "- Scaling required: Yes\n",
    "- Sciki-learn: SGDRegressor\n",
    "\n",
    "Stochastic:\n",
    "- Large m (features): Fast\n",
    "- Out-of-core support: Yes\n",
    "- Large n (size of data): Fast\n",
    "- Hyperparams: >= 2\n",
    "- Scaling required: Yes\n",
    "- Sciki-learn: SGDRegressor\n",
    "\n",
    "Mini-batch:\n",
    "- Large m (features): Fast\n",
    "- Out-of-core support: Yes\n",
    "- Large n (size of data): Fast\n",
    "- Hyperparams: >= 2\n",
    "- Scaling required: Yes\n",
    "- Sciki-learn: SGDRegressor"
   ]
  },
  {
   "cell_type": "markdown",
   "id": "95e9084b-3973-4cc6-908c-4864e740fbbb",
   "metadata": {
    "jp-MarkdownHeadingCollapsed": true,
    "tags": []
   },
   "source": [
    "<h1>Polynomial Regression</h1>\n",
    "\n",
    "If our data is not showing a straight line but instead showing a curved nature, we may need to introduce polynomial features.\n",
    "\n",
    "To this we can add powers to fit/train on non-linear data. \n",
    "\n",
    "Let's use the age vs income non-linear data as the example\n"
   ]
  },
  {
   "cell_type": "code",
   "execution_count": 89,
   "id": "3fc0a78b-22cd-4fa6-a337-bbdd1eb5f331",
   "metadata": {
    "tags": []
   },
   "outputs": [
    {
     "data": {
      "text/plain": [
       "(15355.220521766238, array([854.65146273,  -5.10098103]))"
      ]
     },
     "execution_count": 89,
     "metadata": {},
     "output_type": "execute_result"
    }
   ],
   "source": [
    "from sklearn.preprocessing import PolynomialFeatures\n",
    "\n",
    "X_age = data['age'].values.reshape(-1,1)\n",
    "y = data['income']\n",
    "pipe_poly = Pipeline([('poly_feature',PolynomialFeatures(degree=2, include_bias=False)),\n",
    "                ('lr', LinearRegression())])\n",
    "\n",
    "lr_poly = pipe_poly.fit(X_age, y)\n",
    "\n",
    "lr_poly.named_steps['lr'].intercept_, lr_poly.named_steps['lr'].coef_"
   ]
  },
  {
   "cell_type": "code",
   "execution_count": 88,
   "id": "34d819dc-c75a-49a6-bb03-5da608e701a9",
   "metadata": {
    "tags": []
   },
   "outputs": [
    {
     "data": {
      "text/plain": [
       "array([35302.84545145])"
      ]
     },
     "execution_count": 88,
     "metadata": {},
     "output_type": "execute_result"
    }
   ],
   "source": [
    "X_polytest = [[27]]\n",
    "lr_poly.predict(X_polytest)"
   ]
  },
  {
   "cell_type": "markdown",
   "id": "e9c53cfa-6b12-4118-890d-f860aef1f2eb",
   "metadata": {
    "tags": []
   },
   "source": [
    "<h1>Learning Curves</h1>\n",
    "\n",
    "Learning curves allow us to determine how well our model is able to generalize and understand the patterns in our data by measuring the generalization error such as MSE.\n",
    "\n",
    "There are two types of learning curves:\n",
    "\n",
    "Performance Curves: Looks at score, accuracy etc.\n",
    "\n",
    "Optimisation curves: Looks at error/loss of the error function\n",
    "\n",
    "Learning curves allow us to understand whether our model is <b>overfitting</b> or <b>underfitting</b>"
   ]
  },
  {
   "cell_type": "markdown",
   "id": "ac1d51ca-7a28-4e57-a191-74a70fe1b386",
   "metadata": {
    "tags": []
   },
   "source": [
    "<h2>Bias/Variance Tradeoff</h2>"
   ]
  },
  {
   "cell_type": "markdown",
   "id": "8a272651-b79c-42f8-b47d-597dbb7320d9",
   "metadata": {},
   "source": [
    "A models generalization error can be quantified by taking the sum of three errors:\n",
    "\n",
    "Bias: \n",
    "- Wrong assumptions about the model it's fit to the data. \n",
    "- If the model's complexity is not enough, it can't understand any patterns correctly.\n",
    "- This is called <b>underfitting</b>\n",
    "- can be fixed by increasing the model's complexity.\n",
    "\n",
    "Variance:\n",
    "- How sensitive the model is to the data\n",
    "- If it's extremely sensitive i.e. picks up extremely fine details such as noise, it wont be able to generalise on new test data\n",
    "- This is called <b>overfitting</b>\n",
    "- Can be fixed by:\n",
    "    - Increasing the training set size\n",
    "    - cross-validation\n",
    "    - split train and test sets\n",
    "    - Regularization\n",
    "    - feature selection\n",
    "    - early stopping\n",
    "    - Hyperparameter tuning\n",
    "\n",
    "Irreducible error:\n",
    "- Noisiness in the data\n",
    "- Can be fixed by cleaning the data further"
   ]
  },
  {
   "cell_type": "markdown",
   "id": "e615f902-a273-4ba7-b9e7-26999cf05216",
   "metadata": {},
   "source": [
    "Learning curve implementation:"
   ]
  },
  {
   "cell_type": "code",
   "execution_count": 124,
   "id": "feda3bbb-647f-4d75-bd60-205a502cb17c",
   "metadata": {
    "tags": []
   },
   "outputs": [],
   "source": [
    "from sklearn.model_selection import train_test_split\n",
    "import numpy as np\n",
    "import pandas as pd\n",
    "import matplotlib.pyplot as plt\n",
    "import seaborn as sns\n",
    "from sklearn.metrics import mean_squared_error\n",
    "\n",
    "\n",
    "def plot_loss_learning_curve(model, X, y, size):\n",
    "    train_error = []\n",
    "    test_error = []\n",
    "    X_train, X_test, y_train, y_test = train_test_split(X, y, test_size = size, random_state = 42)\n",
    "    for i in range(1,len(X_train)):\n",
    "        model.fit(X_train[:i], y_train[:i])\n",
    "        y_train_pred = model.predict(X_train[:i])\n",
    "        y_test_pred = model.predict(X_test)\n",
    "        train_error.append(mean_squared_error(y_train[:i], y_train_pred))\n",
    "        test_error.append(mean_squared_error(y_test, y_test_pred))\n",
    "    plt.plot(np.sqrt(train_error), color = 'red')\n",
    "    plt.plot(np.sqrt(test_error), color = 'blue')"
   ]
  },
  {
   "cell_type": "code",
   "execution_count": 125,
   "id": "351ca3c2-170d-43e6-bf05-212b1db39390",
   "metadata": {
    "tags": []
   },
   "outputs": [
    {
     "data": {
      "image/png": "[encoded data removed]",
      "text/plain": [
       "<Figure size 640x480 with 1 Axes>"
      ]
     },
     "metadata": {},
     "output_type": "display_data"
    }
   ],
   "source": [
    "lr_learn = LinearRegression()\n",
    "X = data[['age', 'experience']]\n",
    "y = data['income']\n",
    "plot_loss_learning_curve(lr_learn, X, y, 0.2)"
   ]
  },
  {
   "cell_type": "markdown",
   "id": "ee0bc562-6ebf-422c-9240-84a9c1c16d38",
   "metadata": {},
   "source": [
    "A few rules we can apply to interpret learning curves is by looking at where and at what point do the curves stop. Let's start with the training curve:\n",
    "- Training curve starts of low in error and end in a low error point at the end of the training instance\n",
    "- The model performed well on the test set and went down to a low point. \n",
    "\n",
    "The issue here is the first point, the model training itself on the training data has maintained a very low error throughout the training set. This is an indicator that the model is overfitting (it's picked up almost all sensitivities in the dataset to well)."
   ]
  },
  {
   "cell_type": "code",
   "execution_count": 127,
   "id": "372de821-859f-40c5-b69a-51e542907868",
   "metadata": {
    "tags": []
   },
   "outputs": [
    {
     "data": {
      "image/png": "[encoded data removed]",
      "text/plain": [
       "<Figure size 640x480 with 1 Axes>"
      ]
     },
     "metadata": {},
     "output_type": "display_data"
    }
   ],
   "source": [
    "plot_loss_learning_curve(lr_poly, X, y, 0.2)"
   ]
  },
  {
   "cell_type": "markdown",
   "id": "931f57c6-4d5f-4e8c-970b-4812b21a84c2",
   "metadata": {},
   "source": [
    "In this example, we can see the training curve is also starting at a low error rate and continues to maintain and converge at a low error. This is also another indication of overfitting. "
   ]
  },
  {
   "cell_type": "markdown",
   "id": "da15695e-f19e-4e2f-88d5-1bcb1ab1f4c1",
   "metadata": {},
   "source": [
    "Thus, there are a few ways we can interpret learning curves\n",
    "\n",
    "It is overfitting if:\n",
    "- The training error gradually converges to a low error BUT the test error plateus quickly at a higher error rate\n",
    "- Both the training and test error gradually converges to a low error BUT during training the test error begins to increase.\n",
    "- The training error starts low in error and converges to a low error \n",
    "\n",
    "It is undedrfitting if:\n",
    "- The training error plateus quickly maintaining a high error \n",
    "- The gap between the training error and test error is massive throughout the training timeline\n",
    "- training error and test error begins to plateu late in the training timeline, maintaining a gap\n",
    "\n",
    "Overall, we want a model's complexity to be:\n",
    "- Accurate but inconsistent on average\n",
    "- Consistent but inaccurate on average\n",
    "\n",
    "Therefore we want a balance between them. We want to increase the model's complexity so that it can better understand the patterns in the data (increase the bias, reduce variance) but also to a point where the model can generalize well on new datasets (increase the variance, reduce the bias)."
   ]
  },
  {
   "cell_type": "markdown",
   "id": "d03a813e-0574-4453-8c17-6991a89cc3b0",
   "metadata": {
    "tags": []
   },
   "source": [
    "<h1>Ridge Regression</h1>"
   ]
  },
  {
   "cell_type": "markdown",
   "id": "3288399e-fdd3-4df9-8e7a-a6b5a41077bc",
   "metadata": {},
   "source": [
    "- regularization is the process of reducing the polynomial degree of you model -> which reduces the chance of <b>overfitting</b>\n",
    "- take a regularization term $\\alpha$ and multiply it to the cost function\n",
    "- Forces the model not just fit the data but keep the model weights as small as possible\n",
    "- Regularization should only be added to the cost function during training. Once trained, use unregularised performance measures to evaluate the model's performance.\n",
    " \n",
    "<b>NOTE: cost functions could be used to train the model but could be different for performance measures e.g. logloss for training classifiers and precision/recall for performance measures.</b>"
   ]
  },
  {
   "cell_type": "markdown",
   "id": "ec188c1a-cbcc-4167-be1c-0a8ff24354a8",
   "metadata": {},
   "source": [
    "$\\alpha$ controls the regularization of the cost function.\n",
    "\n",
    "- if $\\alpha$ equals 0, it will just act as a normal regression model\n",
    "- if $\\alpha$ becomes too large, it will push all uneccesary features almost to 0. \n",
    "- Result is a flat line going to the data's mean.\n",
    "\n",
    "<b>NOTE: important to scale data training data before performing Ridge Regression</b>\n",
    "\n",
    "Example of code:"
   ]
  },
  {
   "cell_type": "code",
   "execution_count": null,
   "id": "8dddd9e2-f817-47b5-882c-918366d46001",
   "metadata": {},
   "outputs": [],
   "source": []
  }
 ],
 "metadata": {
  "kernelspec": {
   "display_name": "Python 3 (ipykernel)",
   "language": "python",
   "name": "python3"
  },
  "language_info": {
   "codemirror_mode": {
    "name": "ipython",
    "version": 3
   },
   "file_extension": ".py",
   "mimetype": "text/x-python",
   "name": "python",
   "nbconvert_exporter": "python",
   "pygments_lexer": "ipython3",
   "version": "3.11.5"
  }
 },
 "nbformat": 4,
 "nbformat_minor": 5
}
